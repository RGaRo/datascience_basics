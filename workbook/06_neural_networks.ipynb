{
 "cells": [
  {
   "cell_type": "markdown",
   "id": "acb0fcda",
   "metadata": {},
   "source": [
    "Fizz buzz solver"
   ]
  },
  {
   "cell_type": "code",
   "execution_count": 1,
   "id": "196e8680",
   "metadata": {},
   "outputs": [
    {
     "name": "stderr",
     "output_type": "stream",
     "text": [
      "/Users/renegarzarojas/Documents/04.entornos_virtuales/venv_datascience/lib/python3.13/site-packages/google/protobuf/runtime_version.py:98: UserWarning: Protobuf gencode version 5.28.3 is exactly one major version older than the runtime version 6.31.1 at tensorflow/core/framework/attr_value.proto. Please update the gencode to avoid compatibility violations in the next runtime release.\n",
      "  warnings.warn(\n",
      "/Users/renegarzarojas/Documents/04.entornos_virtuales/venv_datascience/lib/python3.13/site-packages/google/protobuf/runtime_version.py:98: UserWarning: Protobuf gencode version 5.28.3 is exactly one major version older than the runtime version 6.31.1 at tensorflow/core/framework/tensor.proto. Please update the gencode to avoid compatibility violations in the next runtime release.\n",
      "  warnings.warn(\n",
      "/Users/renegarzarojas/Documents/04.entornos_virtuales/venv_datascience/lib/python3.13/site-packages/google/protobuf/runtime_version.py:98: UserWarning: Protobuf gencode version 5.28.3 is exactly one major version older than the runtime version 6.31.1 at tensorflow/core/framework/resource_handle.proto. Please update the gencode to avoid compatibility violations in the next runtime release.\n",
      "  warnings.warn(\n",
      "/Users/renegarzarojas/Documents/04.entornos_virtuales/venv_datascience/lib/python3.13/site-packages/google/protobuf/runtime_version.py:98: UserWarning: Protobuf gencode version 5.28.3 is exactly one major version older than the runtime version 6.31.1 at tensorflow/core/framework/tensor_shape.proto. Please update the gencode to avoid compatibility violations in the next runtime release.\n",
      "  warnings.warn(\n",
      "/Users/renegarzarojas/Documents/04.entornos_virtuales/venv_datascience/lib/python3.13/site-packages/google/protobuf/runtime_version.py:98: UserWarning: Protobuf gencode version 5.28.3 is exactly one major version older than the runtime version 6.31.1 at tensorflow/core/framework/types.proto. Please update the gencode to avoid compatibility violations in the next runtime release.\n",
      "  warnings.warn(\n",
      "/Users/renegarzarojas/Documents/04.entornos_virtuales/venv_datascience/lib/python3.13/site-packages/google/protobuf/runtime_version.py:98: UserWarning: Protobuf gencode version 5.28.3 is exactly one major version older than the runtime version 6.31.1 at tensorflow/core/framework/full_type.proto. Please update the gencode to avoid compatibility violations in the next runtime release.\n",
      "  warnings.warn(\n",
      "/Users/renegarzarojas/Documents/04.entornos_virtuales/venv_datascience/lib/python3.13/site-packages/google/protobuf/runtime_version.py:98: UserWarning: Protobuf gencode version 5.28.3 is exactly one major version older than the runtime version 6.31.1 at tensorflow/core/framework/function.proto. Please update the gencode to avoid compatibility violations in the next runtime release.\n",
      "  warnings.warn(\n",
      "/Users/renegarzarojas/Documents/04.entornos_virtuales/venv_datascience/lib/python3.13/site-packages/google/protobuf/runtime_version.py:98: UserWarning: Protobuf gencode version 5.28.3 is exactly one major version older than the runtime version 6.31.1 at tensorflow/core/framework/node_def.proto. Please update the gencode to avoid compatibility violations in the next runtime release.\n",
      "  warnings.warn(\n",
      "/Users/renegarzarojas/Documents/04.entornos_virtuales/venv_datascience/lib/python3.13/site-packages/google/protobuf/runtime_version.py:98: UserWarning: Protobuf gencode version 5.28.3 is exactly one major version older than the runtime version 6.31.1 at tensorflow/core/framework/op_def.proto. Please update the gencode to avoid compatibility violations in the next runtime release.\n",
      "  warnings.warn(\n",
      "/Users/renegarzarojas/Documents/04.entornos_virtuales/venv_datascience/lib/python3.13/site-packages/google/protobuf/runtime_version.py:98: UserWarning: Protobuf gencode version 5.28.3 is exactly one major version older than the runtime version 6.31.1 at tensorflow/core/framework/graph.proto. Please update the gencode to avoid compatibility violations in the next runtime release.\n",
      "  warnings.warn(\n",
      "/Users/renegarzarojas/Documents/04.entornos_virtuales/venv_datascience/lib/python3.13/site-packages/google/protobuf/runtime_version.py:98: UserWarning: Protobuf gencode version 5.28.3 is exactly one major version older than the runtime version 6.31.1 at tensorflow/core/framework/graph_debug_info.proto. Please update the gencode to avoid compatibility violations in the next runtime release.\n",
      "  warnings.warn(\n",
      "/Users/renegarzarojas/Documents/04.entornos_virtuales/venv_datascience/lib/python3.13/site-packages/google/protobuf/runtime_version.py:98: UserWarning: Protobuf gencode version 5.28.3 is exactly one major version older than the runtime version 6.31.1 at tensorflow/core/framework/versions.proto. Please update the gencode to avoid compatibility violations in the next runtime release.\n",
      "  warnings.warn(\n",
      "/Users/renegarzarojas/Documents/04.entornos_virtuales/venv_datascience/lib/python3.13/site-packages/google/protobuf/runtime_version.py:98: UserWarning: Protobuf gencode version 5.28.3 is exactly one major version older than the runtime version 6.31.1 at tensorflow/core/protobuf/config.proto. Please update the gencode to avoid compatibility violations in the next runtime release.\n",
      "  warnings.warn(\n",
      "/Users/renegarzarojas/Documents/04.entornos_virtuales/venv_datascience/lib/python3.13/site-packages/google/protobuf/runtime_version.py:98: UserWarning: Protobuf gencode version 5.28.3 is exactly one major version older than the runtime version 6.31.1 at xla/tsl/protobuf/coordination_config.proto. Please update the gencode to avoid compatibility violations in the next runtime release.\n",
      "  warnings.warn(\n",
      "/Users/renegarzarojas/Documents/04.entornos_virtuales/venv_datascience/lib/python3.13/site-packages/google/protobuf/runtime_version.py:98: UserWarning: Protobuf gencode version 5.28.3 is exactly one major version older than the runtime version 6.31.1 at tensorflow/core/framework/cost_graph.proto. Please update the gencode to avoid compatibility violations in the next runtime release.\n",
      "  warnings.warn(\n",
      "/Users/renegarzarojas/Documents/04.entornos_virtuales/venv_datascience/lib/python3.13/site-packages/google/protobuf/runtime_version.py:98: UserWarning: Protobuf gencode version 5.28.3 is exactly one major version older than the runtime version 6.31.1 at tensorflow/core/framework/step_stats.proto. Please update the gencode to avoid compatibility violations in the next runtime release.\n",
      "  warnings.warn(\n",
      "/Users/renegarzarojas/Documents/04.entornos_virtuales/venv_datascience/lib/python3.13/site-packages/google/protobuf/runtime_version.py:98: UserWarning: Protobuf gencode version 5.28.3 is exactly one major version older than the runtime version 6.31.1 at tensorflow/core/framework/allocation_description.proto. Please update the gencode to avoid compatibility violations in the next runtime release.\n",
      "  warnings.warn(\n",
      "/Users/renegarzarojas/Documents/04.entornos_virtuales/venv_datascience/lib/python3.13/site-packages/google/protobuf/runtime_version.py:98: UserWarning: Protobuf gencode version 5.28.3 is exactly one major version older than the runtime version 6.31.1 at tensorflow/core/framework/tensor_description.proto. Please update the gencode to avoid compatibility violations in the next runtime release.\n",
      "  warnings.warn(\n",
      "/Users/renegarzarojas/Documents/04.entornos_virtuales/venv_datascience/lib/python3.13/site-packages/google/protobuf/runtime_version.py:98: UserWarning: Protobuf gencode version 5.28.3 is exactly one major version older than the runtime version 6.31.1 at tensorflow/core/protobuf/cluster.proto. Please update the gencode to avoid compatibility violations in the next runtime release.\n",
      "  warnings.warn(\n",
      "/Users/renegarzarojas/Documents/04.entornos_virtuales/venv_datascience/lib/python3.13/site-packages/google/protobuf/runtime_version.py:98: UserWarning: Protobuf gencode version 5.28.3 is exactly one major version older than the runtime version 6.31.1 at tensorflow/core/protobuf/debug.proto. Please update the gencode to avoid compatibility violations in the next runtime release.\n",
      "  warnings.warn(\n"
     ]
    }
   ],
   "source": [
    "import random\n",
    "import tqdm\n",
    "import tensorflow as tf\n",
    "from scratch.complex_typing import Vector\n",
    "from typing import List, Dict, Literal, Union\n",
    "from IPython.display import clear_output "
   ]
  },
  {
   "cell_type": "markdown",
   "id": "84b524a4",
   "metadata": {},
   "source": [
    "Print the numbers from 1 to 100, but for:\n",
    "-\tMultiples of 3, print \"Fizz\" instead of the number.\n",
    "-\tMultiples of 5, print \"Buzz\" instead.\n",
    "-\tFor numbers which are multiples of both 3 and 5, print \"FizzBuzz\"."
   ]
  },
  {
   "cell_type": "markdown",
   "id": "71740307",
   "metadata": {},
   "source": [
    "That is given by this function:"
   ]
  },
  {
   "cell_type": "code",
   "execution_count": 2,
   "id": "d53ddc60",
   "metadata": {},
   "outputs": [],
   "source": [
    "def fizzbuzz(x: int) -> Union[str, int]:\n",
    "    \"\"\" \n",
    "    Return the fizzbuzz challenge value\n",
    "    if the number is divisible by 5 return buzz\n",
    "    if the number is divisible by 3 return fizz\n",
    "    if the number is divisible by the both return fizzbuzz\n",
    "    if any condition above is false return the number\n",
    "    \"\"\"\n",
    "    if x%3==0 and x%5==0:\n",
    "        return \"fizzbuzz\"\n",
    "    elif x%5==0:\n",
    "        return \"buzz\"\n",
    "    elif x%3==0:\n",
    "        return \"fizz\"\n",
    "    else:\n",
    "        return \"number\""
   ]
  },
  {
   "cell_type": "markdown",
   "id": "2c0cd548",
   "metadata": {},
   "source": [
    "As we going to train a model to solve a problem for first 100 numbers would be unfair to use them lets make a solution for this using numbers from 101 to 1023"
   ]
  },
  {
   "cell_type": "code",
   "execution_count": 3,
   "id": "77971973",
   "metadata": {},
   "outputs": [],
   "source": [
    "X = [x for x in range (101, 1024)]\n",
    "y = [fizzbuzz(x) for x in X]"
   ]
  },
  {
   "cell_type": "markdown",
   "id": "a424c02f",
   "metadata": {},
   "source": [
    "now we must code our variables for inputs, biinary representation for x and encoding each case for y"
   ]
  },
  {
   "cell_type": "code",
   "execution_count": 4,
   "id": "64383e53",
   "metadata": {},
   "outputs": [],
   "source": [
    "def x_encode(x: int, bits: int = 10) -> Vector:\n",
    "    \"\"\" \n",
    "    Return the binary representation of a number\n",
    "    \"\"\"\n",
    "    bin_str = format(x, f'0{bits}b')      # Binary string, e.g. '00000101'\n",
    "    reversed_str = bin_str[::-1]          # Reverse it, e.g. '10100000'\n",
    "    vector = [int(b) for b in reversed_str]  # Convert to list of ints\n",
    "    return vector\n",
    "\n",
    "def y_encode(fizz_value: Union[str, int]) -> Vector:\n",
    "    \"\"\" \n",
    "    Return an fizzbuz encoding:\n",
    "    if the value is a number return [1, 0, 0, 0]\n",
    "    if the value is fizz return [0, 1, 0, 0]\n",
    "    if the value is buzz return [0, 0, 1, 0]\n",
    "    if the value is fizz buzz return [0, 0, 0, 1]\n",
    "    \"\"\"\n",
    "\n",
    "    if isinstance(fizz_value, str) and fizz_value==\"number\":\n",
    "        return [1, 0, 0, 0]\n",
    "    \n",
    "    elif isinstance(fizz_value, str) and fizz_value==\"fizz\":\n",
    "        return [0, 1, 0, 0]\n",
    "    \n",
    "    elif isinstance(fizz_value, str) and fizz_value==\"buzz\":\n",
    "        return [0, 0, 1, 0]\n",
    "    \n",
    "    elif isinstance(fizz_value, str) and fizz_value==\"fizzbuzz\":\n",
    "        return [0, 0, 0, 1]\n",
    "\n",
    "def y_decode(encoded: list[int]) -> str:\n",
    "    \"\"\"\n",
    "    Decodes a one-hot encoded fizzbuzz vector to its label.\n",
    "    \n",
    "    [1, 0, 0, 0] -> \"number\"\n",
    "    [0, 1, 0, 0] -> \"fizz\"\n",
    "    [0, 0, 1, 0] -> \"buzz\"\n",
    "    [0, 0, 0, 1] -> \"fizzbuzz\"\n",
    "    \"\"\"\n",
    "    labels = [\"number\", \"fizz\", \"buzz\", \"fizzbuzz\"]\n",
    "    index = encoded.index(1)\n",
    "    return labels[index]"
   ]
  },
  {
   "cell_type": "markdown",
   "id": "9edb29e7",
   "metadata": {},
   "source": [
    "Encoding the variables and turning into tf object"
   ]
  },
  {
   "cell_type": "code",
   "execution_count": 5,
   "id": "de48c0ff",
   "metadata": {},
   "outputs": [],
   "source": [
    "X_encoded = [x_encode(x) for x in X ]\n",
    "y_encoded = [y_encode(yi) for yi in y]\n",
    "\n",
    "X_enc_tf = [tf.constant([x], dtype=tf.float32) for x in X_encoded]\n",
    "y_enc_tf = [tf.constant([y], dtype=tf.float32) for y in y_encoded]"
   ]
  },
  {
   "cell_type": "code",
   "execution_count": 6,
   "id": "d4344092",
   "metadata": {},
   "outputs": [
    {
     "name": "stdout",
     "output_type": "stream",
     "text": [
      "x: 194, x_enc: [0, 1, 0, 0, 0, 0, 1, 1, 0, 0], y_enc: [1, 0, 0, 0]\n",
      "x: 224, x_enc: [0, 0, 0, 0, 0, 1, 1, 1, 0, 0], y_enc: [1, 0, 0, 0]\n",
      "x: 280, x_enc: [0, 0, 0, 1, 1, 0, 0, 0, 1, 0], y_enc: [0, 0, 1, 0]\n",
      "x: 295, x_enc: [1, 1, 1, 0, 0, 1, 0, 0, 1, 0], y_enc: [0, 0, 1, 0]\n",
      "x: 315, x_enc: [1, 1, 0, 1, 1, 1, 0, 0, 1, 0], y_enc: [0, 0, 0, 1]\n",
      "x: 544, x_enc: [0, 0, 0, 0, 0, 1, 0, 0, 0, 1], y_enc: [1, 0, 0, 0]\n",
      "x: 876, x_enc: [0, 0, 1, 1, 0, 1, 1, 0, 1, 1], y_enc: [0, 1, 0, 0]\n",
      "x: 885, x_enc: [1, 0, 1, 0, 1, 1, 1, 0, 1, 1], y_enc: [0, 0, 0, 1]\n",
      "x: 963, x_enc: [1, 1, 0, 0, 0, 0, 1, 1, 1, 1], y_enc: [0, 1, 0, 0]\n",
      "x: 965, x_enc: [1, 0, 1, 0, 0, 0, 1, 1, 1, 1], y_enc: [0, 0, 1, 0]\n",
      "x: 990, x_enc: [0, 1, 1, 1, 1, 0, 1, 1, 1, 1], y_enc: [0, 0, 0, 1]\n",
      "x: 996, x_enc: [0, 0, 1, 0, 0, 1, 1, 1, 1, 1], y_enc: [0, 1, 0, 0]\n",
      "x: 1021, x_enc: [1, 0, 1, 1, 1, 1, 1, 1, 1, 1], y_enc: [1, 0, 0, 0]\n"
     ]
    }
   ],
   "source": [
    "for x, x_enc, y_enc in zip(X, X_encoded, y_encoded):\n",
    "    prob = random.random()\n",
    "    if prob > 0.99:\n",
    "        print(f\"x: {x}, x_enc: {x_enc}, y_enc: {y_enc}\")"
   ]
  },
  {
   "cell_type": "markdown",
   "id": "141196e0",
   "metadata": {},
   "source": [
    "Now we going to do our Artificial Neural Network from scratch (actually it's not a 100% from scratch because we will use tensorflow objects in order to get an optimized models, also tensorflow has it's own process for getting gradients and its pretty otpimized, by the way the basis is the same and it was review in previous)."
   ]
  },
  {
   "cell_type": "code",
   "execution_count": 7,
   "id": "fcb87a9c",
   "metadata": {},
   "outputs": [],
   "source": [
    "class NNmodel:\n",
    "    def __init__(self, input_dim, hidden_layers, output_dim):\n",
    "        \"\"\"\n",
    "        input_dim: int, number of input features\n",
    "        hidden_layers: list of int, number of neurons per hidden layer\n",
    "        output_dim: int, number of output classes\n",
    "        \"\"\"\n",
    "        self.weights = []\n",
    "        self.biases = []\n",
    "\n",
    "        # Layer sizes: input -> hidden1 ->... -> hiddenN -> output\n",
    "        layer_dims = [input_dim] + hidden_layers + [output_dim]\n",
    "\n",
    "        for i in range(len(layer_dims)-1):\n",
    "            w = tf.Variable(tf.random.normal([layer_dims[i], layer_dims[i+1]], stddev=0.1))\n",
    "            b = tf.Variable(tf.zeros([layer_dims[i + 1]]))\n",
    "            self.weights.append(w)\n",
    "            self.biases.append(b)\n",
    "        \n",
    "    def forward(self, x:Vector) -> Vector:\n",
    "        h = x\n",
    "        for i in range(len(self.weights) - 1):\n",
    "            h = tf.nn.relu(tf.matmul(h, self.weights[i]) + self.biases[i])\n",
    "        logits = tf.matmul(h, self.weights[-1]) + self.biases[-1]\n",
    "        return tf.nn.softmax(logits)\n",
    "    \n",
    "    def predict(self, x: Vector) -> Vector:\n",
    "        \"\"\" A method to predict \"\"\"\n",
    "        prediction = [0, 0, 0, 0]\n",
    "        out = self.forward(x)\n",
    "        index = int(tf.argmax(out, axis=1).numpy()[0])\n",
    "        prediction[index] = 1\n",
    "        return prediction  \n",
    "    \n",
    "    def loss(self, x, y_true):\n",
    "        \"\"\" Setting of our loss function\"\"\"\n",
    "        y_pred = self.forward(x)\n",
    "        return tf.reduce_mean(tf.square(y_pred - y_true))\n",
    "    \n",
    "    def fit(self, X, y, epochs: int = 5000, learning_rate: float = 0.01) -> None:\n",
    "        \"\"\" \n",
    "        A variable to fit the model\n",
    "        \"\"\"\n",
    "        optimizer = tf.keras.optimizers.Adam(learning_rate=learning_rate)\n",
    "        variables = self.weights + self.biases\n",
    "\n",
    "        pbar = tqdm.tqdm(range(epochs), \" Fitting ANN\")\n",
    "        \n",
    "        for epoch in pbar:\n",
    "            with tf.GradientTape() as tape:\n",
    "                loss_value = self.loss(X, y)\n",
    "\n",
    "            grads = tape.gradient(loss_value, variables)\n",
    "            optimizer.apply_gradients(zip(grads, variables))\n",
    "            \n",
    "            pbar.set_postfix(epoch = f\"{epoch + 1:,}\", loss = f\"{loss_value.numpy():.4f}\")"
   ]
  },
  {
   "cell_type": "code",
   "execution_count": 8,
   "id": "b874b287",
   "metadata": {},
   "outputs": [
    {
     "name": "stderr",
     "output_type": "stream",
     "text": [
      " Fitting ANN: 100%|██████████| 10000/10000 [01:14<00:00, 133.70it/s, epoch=10,000, loss=0.1554]\n"
     ]
    }
   ],
   "source": [
    "model = NNmodel(10, [3], 4)\n",
    "model.fit(X_enc_tf, y_enc_tf, epochs=10000, learning_rate=0.001)"
   ]
  },
  {
   "cell_type": "code",
   "execution_count": 9,
   "id": "960950f4",
   "metadata": {},
   "outputs": [],
   "source": [
    "X_test = [x for x in range (1, 101)]\n",
    "y_test = [fizzbuzz(x) for x in X_test]\n",
    "\n",
    "X_test_encoded = [x_encode(x) for x in X_test ]\n",
    "y_test_encoded = [y_encode(yi) for yi in y_test]\n",
    "\n",
    "X_test_enc_tf = [tf.constant([x], dtype=tf.float32) for x in X_test_encoded]\n",
    "y_test_enc_tf = [tf.constant([y], dtype=tf.float32) for y in y_test_encoded]"
   ]
  },
  {
   "cell_type": "code",
   "execution_count": 10,
   "id": "92d34ad7",
   "metadata": {},
   "outputs": [],
   "source": [
    "predictions = [y_decode(model.predict(x)) for x in X_test_enc_tf]"
   ]
  },
  {
   "cell_type": "code",
   "execution_count": 11,
   "id": "9d2d8bbd",
   "metadata": {},
   "outputs": [
    {
     "name": "stdout",
     "output_type": "stream",
     "text": [
      "x -  real - predicción\n",
      " ------------------------ \n",
      "1 - number - number\n",
      "2 - number - number\n",
      "3 - fizz - number\n",
      "4 - number - number\n",
      "5 - buzz - number\n",
      "6 - fizz - number\n",
      "7 - number - number\n",
      "8 - number - number\n",
      "9 - fizz - number\n",
      "10 - buzz - number\n",
      "11 - number - number\n",
      "12 - fizz - number\n",
      "13 - number - number\n",
      "14 - number - number\n",
      "15 - fizzbuzz - number\n",
      "16 - number - number\n",
      "17 - number - number\n",
      "18 - fizz - number\n",
      "19 - number - number\n",
      "20 - buzz - number\n",
      "21 - fizz - number\n",
      "22 - number - number\n",
      "23 - number - number\n",
      "24 - fizz - number\n",
      "25 - buzz - number\n",
      "26 - number - number\n",
      "27 - fizz - number\n",
      "28 - number - number\n",
      "29 - number - number\n",
      "30 - fizzbuzz - number\n",
      "31 - number - number\n",
      "32 - number - number\n",
      "33 - fizz - number\n",
      "34 - number - number\n",
      "35 - buzz - number\n",
      "36 - fizz - number\n",
      "37 - number - number\n",
      "38 - number - number\n",
      "39 - fizz - number\n",
      "40 - buzz - number\n",
      "41 - number - number\n",
      "42 - fizz - number\n",
      "43 - number - number\n",
      "44 - number - number\n",
      "45 - fizzbuzz - number\n",
      "46 - number - number\n",
      "47 - number - number\n",
      "48 - fizz - number\n",
      "49 - number - number\n",
      "50 - buzz - number\n",
      "51 - fizz - number\n",
      "52 - number - number\n",
      "53 - number - number\n",
      "54 - fizz - number\n",
      "55 - buzz - number\n",
      "56 - number - number\n",
      "57 - fizz - number\n",
      "58 - number - number\n",
      "59 - number - number\n",
      "60 - fizzbuzz - number\n",
      "61 - number - number\n",
      "62 - number - number\n",
      "63 - fizz - number\n",
      "64 - number - number\n",
      "65 - buzz - number\n",
      "66 - fizz - number\n",
      "67 - number - number\n",
      "68 - number - number\n",
      "69 - fizz - number\n",
      "70 - buzz - number\n",
      "71 - number - number\n",
      "72 - fizz - number\n",
      "73 - number - number\n",
      "74 - number - number\n",
      "75 - fizzbuzz - number\n",
      "76 - number - number\n",
      "77 - number - number\n",
      "78 - fizz - number\n",
      "79 - number - number\n",
      "80 - buzz - number\n",
      "81 - fizz - number\n",
      "82 - number - number\n",
      "83 - number - number\n",
      "84 - fizz - number\n",
      "85 - buzz - number\n",
      "86 - number - number\n",
      "87 - fizz - number\n",
      "88 - number - number\n",
      "89 - number - number\n",
      "90 - fizzbuzz - number\n",
      "91 - number - number\n",
      "92 - number - number\n",
      "93 - fizz - number\n",
      "94 - number - number\n",
      "95 - buzz - number\n",
      "96 - fizz - number\n",
      "97 - number - number\n",
      "98 - number - number\n",
      "99 - fizz - number\n",
      "100 - buzz - number\n"
     ]
    }
   ],
   "source": [
    "print(f\"x -  real - predicción\")\n",
    "print(\" ------------------------ \")\n",
    "for x, y, y_pred in zip(X_test, y_test,predictions):\n",
    "    print(f\"{x} - {y} - {y_pred}\")"
   ]
  },
  {
   "cell_type": "code",
   "execution_count": 12,
   "id": "59b8e5cb",
   "metadata": {},
   "outputs": [
    {
     "name": "stdout",
     "output_type": "stream",
     "text": [
      "              precision    recall  f1-score   support\n",
      "\n",
      "        buzz       0.00      0.00      0.00        14\n",
      "        fizz       0.00      0.00      0.00        27\n",
      "    fizzbuzz       0.00      0.00      0.00         6\n",
      "      number       0.53      1.00      0.69        53\n",
      "\n",
      "    accuracy                           0.53       100\n",
      "   macro avg       0.13      0.25      0.17       100\n",
      "weighted avg       0.28      0.53      0.37       100\n",
      "\n"
     ]
    },
    {
     "name": "stderr",
     "output_type": "stream",
     "text": [
      "/Users/renegarzarojas/Documents/04.entornos_virtuales/venv_datascience/lib/python3.13/site-packages/sklearn/metrics/_classification.py:1731: UndefinedMetricWarning: Precision is ill-defined and being set to 0.0 in labels with no predicted samples. Use `zero_division` parameter to control this behavior.\n",
      "  _warn_prf(average, modifier, f\"{metric.capitalize()} is\", result.shape[0])\n",
      "/Users/renegarzarojas/Documents/04.entornos_virtuales/venv_datascience/lib/python3.13/site-packages/sklearn/metrics/_classification.py:1731: UndefinedMetricWarning: Precision is ill-defined and being set to 0.0 in labels with no predicted samples. Use `zero_division` parameter to control this behavior.\n",
      "  _warn_prf(average, modifier, f\"{metric.capitalize()} is\", result.shape[0])\n",
      "/Users/renegarzarojas/Documents/04.entornos_virtuales/venv_datascience/lib/python3.13/site-packages/sklearn/metrics/_classification.py:1731: UndefinedMetricWarning: Precision is ill-defined and being set to 0.0 in labels with no predicted samples. Use `zero_division` parameter to control this behavior.\n",
      "  _warn_prf(average, modifier, f\"{metric.capitalize()} is\", result.shape[0])\n"
     ]
    }
   ],
   "source": [
    "from sklearn.metrics import classification_report\n",
    "print(classification_report(y_test, predictions))"
   ]
  }
 ],
 "metadata": {
  "kernelspec": {
   "display_name": "venv_datascience",
   "language": "python",
   "name": "python3"
  },
  "language_info": {
   "codemirror_mode": {
    "name": "ipython",
    "version": 3
   },
   "file_extension": ".py",
   "mimetype": "text/x-python",
   "name": "python",
   "nbconvert_exporter": "python",
   "pygments_lexer": "ipython3",
   "version": "3.13.5"
  }
 },
 "nbformat": 4,
 "nbformat_minor": 5
}
