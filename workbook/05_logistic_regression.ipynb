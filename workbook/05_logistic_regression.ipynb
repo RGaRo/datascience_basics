{
 "cells": [
  {
   "cell_type": "markdown",
   "id": "5a1f5c45",
   "metadata": {},
   "source": [
    "# **Inside Logistic Regression: A Step-by-Step Guide with Titanic as a Case Study**"
   ]
  },
  {
   "cell_type": "markdown",
   "id": "9db362e0",
   "metadata": {},
   "source": [
    "### **Libraries used**"
   ]
  },
  {
   "cell_type": "code",
   "execution_count": 1,
   "id": "3d142ec3",
   "metadata": {},
   "outputs": [],
   "source": [
    "import math\n",
    "import tqdm\n",
    "import random\n",
    "import numpy as np\n",
    "import pandas as pd\n",
    "import matplotlib.pyplot as plt\n",
    "\n",
    "from sklearn.impute import KNNImputer\n",
    "from sklearn.metrics import confusion_matrix\n",
    "from sklearn.compose import ColumnTransformer\n",
    "from sklearn.model_selection import train_test_split\n",
    "from sklearn.base import BaseEstimator, TransformerMixin\n",
    "from sklearn.preprocessing import StandardScaler, LabelEncoder\n",
    "\n",
    "from statistics import mean\n",
    "from collections import defaultdict\n",
    "from typing import List, Dict, Literal\n",
    "\n",
    "from scratch.complex_typing import Vector\n",
    "from scratch.metrics import precision, recall, f1_score, print_classification_report"
   ]
  },
  {
   "cell_type": "markdown",
   "id": "454a21c9",
   "metadata": {},
   "source": [
    "### **Introduction**"
   ]
  },
  {
   "cell_type": "markdown",
   "id": "a1ed98fd",
   "metadata": {},
   "source": [
    "Logistic regression is a fundamental classification algorithm widely used in statistics, machine learning, and data science. Unlike linear regression, which predicts continuous values, logistic regression estimates the probability that a given input belongs to a particular class. It serves as the foundation for more complex models such as neural networks and generalized linear models, making it an essential concept for practitioners and researchers alike.\n",
    "\n",
    "This notebook presents a complete implementation of logistic regression from scratch, focusing on the mathematical foundations and algorithmic processes that define the model. We will explore the logistic function, the log-likelihood objective, and the optimization process used to find the best parameters through gradient ascent.\n",
    "\n",
    "As a practical application, we will use the Titanic dataset — a classic and publicly available dataset — to predict passenger survival based on features such as age, class, and sex. This example offers a compelling context for exploring the real-world performance of logistic regression and demonstrates the full workflow from data preparation to model evaluation.\n",
    "\n",
    "By the end of this notebook, readers will gain a clear conceptual and practical understanding of how logistic regression works internally, how to implement it, and how to evaluate its performance using standard classification metrics."
   ]
  },
  {
   "cell_type": "markdown",
   "id": "4637b1e4",
   "metadata": {},
   "source": [
    "### **Theoretical framework**"
   ]
  },
  {
   "cell_type": "markdown",
   "id": "55dc571c",
   "metadata": {},
   "source": [
    "**Logistic regression**\n",
    "\n",
    "Logistic regression is a supervised learning algorithm used for binary classification tasks. At its core, it models the probability that a sample belongs to the positive class using the logistic (sigmoid) function:\n",
    "\n",
    "$$\n",
    "\\sigma(z) = \\frac{1}{1 + e^{-z}}\n",
    "$$\n",
    "\n",
    "where $z = \\beta_0 + \\beta_1 x_1 + \\cdots + \\beta_n x_n$ is the linear combination of the input features and their associated parameters (coefficients). This function ensures the output values lie between 0 and 1, which makes them interpretable as probabilities.\n",
    "\n",
    "To fit the model, we aim to maximize the likelihood of observing the actual data, given the model parameters. This is commonly done by maximizing the log-likelihood function using gradient ascent. The derivative of this function with respect to each parameter (i.e., the gradient) guides the update of the parameters at each iteration."
   ]
  },
  {
   "cell_type": "markdown",
   "id": "67e14e39",
   "metadata": {},
   "source": [
    "**Gradient and Gradient Ascent in Logistic Regression**\n",
    "\n",
    "*The gradient*\n",
    "\n",
    "In logistic regression, our goal is to find the best parameters (also called coefficients) that allow our model to correctly predict the probability that a given input belongs to class 1 (usually represented as y = 1).\n",
    "\n",
    "To do this, we use something called the log-likelihood function. This function tells us how likely it is that our model, with its current parameters, would have produced the actual labels in the data. The higher the likelihood, the better our model fits the data.\n",
    "\n",
    "We use the sigmoid function (explained before), denoted by $\\sigma(z)$, to convert the linear combination of inputs into a probability:\n",
    "\n",
    "*Log-Likelihood Function*\n",
    "\n",
    "For a single training example $(\\mathbf{x}_i, y_i)$, the probability of the outcome under the model is:\n",
    "\n",
    "$$\n",
    "P(y_i \\mid \\mathbf{x}_i) = \\sigma(z_i)^{y_i} (1 - \\sigma(z_i))^{1 - y_i}\n",
    "$$\n",
    "\n",
    "Taking the logarithm (to make the math easier and more stable), we get the log-likelihood for all the training examples:\n",
    "\n",
    "$$\n",
    "\\mathcal{L}(\\boldsymbol{\\beta}) = \\sum_{i=1}^{m} \\left[ y_i \\log(\\sigma(z_i)) + (1 - y_i) \\log(1 - \\sigma(z_i)) \\right]\n",
    "$$\n",
    "\n",
    "This is the function we want to maximize."
   ]
  },
  {
   "cell_type": "markdown",
   "id": "63ba80ba",
   "metadata": {},
   "source": [
    "*The Gradient Ascent*\n",
    "\n",
    "To maximize the log-likelihood, we use an optimization method called gradient ascent. The idea is simple: we compute the gradient (the direction in which the log-likelihood increases the fastest), and then take small steps in that direction.\n",
    "\n",
    "The formula for updating the parameters is:\n",
    "\n",
    "$$\n",
    "\\boldsymbol{\\beta} \\leftarrow \\boldsymbol{\\beta} + \\eta \\cdot \\nabla \\mathcal{L}(\\boldsymbol{\\beta})\n",
    "$$\n",
    "\n",
    "Where:\n",
    "- $\\eta$ is the learning rate (how big each step is),\n",
    "- $\\nabla \\mathcal{L}(\\boldsymbol{\\beta})$ is the gradient, a vector that tells us how much each coefficient should change.\n",
    "\n",
    "Each partial derivative in the gradient is:\n",
    "\n",
    "$$\n",
    "\\frac{\\partial \\mathcal{L}}{\\partial \\beta_j} = \\sum_{i=1}^{m} \\left( y_i - \\sigma(z_i) \\right) x_{ij}\n",
    "$$\n",
    "\n",
    "In words, the update for each coefficient depends on the difference between the actual label and the predicted probability, multiplied by the value of the input feature. This tells us whether to increase or decrease the coefficient."
   ]
  },
  {
   "cell_type": "markdown",
   "id": "93d6d8c4",
   "metadata": {},
   "source": [
    "**Data Preparation and Preprocessing**\n",
    "\n",
    "Proper data preparation is critical for building a robust and generalizable model. One of the most important principles in machine learning is to simulate real-world prediction scenarios, where the model must generalize to unseen data. Therefore, the first step must always be to split the dataset into training and testing sets.\n",
    "\n",
    "No transformation (including imputation, encoding, or normalization) should be applied before this split. Applying transformations before splitting would lead to data leakage, where information from the test set influences the training process, resulting in overly optimistic performance estimates.\n",
    "\n",
    "Once the dataset is split, we apply the following preprocessing steps separately on each subset, ensuring that the transformations learned from the training data are reused (not re-fitted) on the test data.\n",
    "\n",
    "1. Imputation of Missing Values\n",
    "\n",
    "Real-world data often contains missing entries. These must be handled carefully to maintain the model’s integrity. We fit an imputation strategy (e.g., replacing missing values with the mean or median) on the training set only and then apply that strategy to both training and testing data. This avoids using information from the test set that would otherwise bias model evaluation.\n",
    "\n",
    "2. Encoding Categorical Variables\n",
    "\n",
    "Categorical features need to be converted to numerical format for use in logistic regression. We use one-hot encoding (i.e., dummy variables) to achieve this. As with imputation, the encoder is fit on the training data and applied identically to the test data to ensure consistency in the number and order of resulting features.\n",
    "\n",
    "3. Normalization\n",
    "\n",
    "Because logistic regression relies on gradient-based optimization, features should be on a similar scale to improve convergence and interpretability. We standardize the numerical features by removing the mean and scaling to unit variance, using statistics (mean and standard deviation) computed from the training set. These parameters are then used to transform the test set."
   ]
  },
  {
   "cell_type": "markdown",
   "id": "0ee6874f",
   "metadata": {},
   "source": [
    "**Why These Steps Matter**\n",
    "\n",
    "Each transformation—imputation, encoding, and normalization—is essential for ensuring the quality and fairness of the model. More importantly, applying these transformations after splitting the data preserves the integrity of the testing process. Any leakage of information from the test set into the training phase can result in models that overfit and perform poorly on unseen data.\n",
    "\n",
    "In the next section, we will apply this pipeline while implementing logistic regression from scratch using the Titanic dataset."
   ]
  },
  {
   "cell_type": "markdown",
   "id": "3e233325",
   "metadata": {},
   "source": [
    "### **Practical example**"
   ]
  },
  {
   "cell_type": "markdown",
   "id": "5526ac1e",
   "metadata": {},
   "source": [
    "To begin our practical implementation, we first need to load the dataset. In this case, we will use the famous Titanic dataset, which contains information about the passengers aboard the Titanic, including features such as age, sex, ticket class, and whether or not they survived. This dataset is commonly used for binary classification tasks, making it an ideal candidate for our logistic regression model.\n",
    "\n",
    "We will load the dataset using pandas, which provides a simple and efficient way to handle structured data in Python. Once loaded, we will take a quick look at the structure of the dataset to better understand the features and identify any preprocessing steps that may be necessary."
   ]
  },
  {
   "cell_type": "code",
   "execution_count": 2,
   "id": "a8fb1478",
   "metadata": {},
   "outputs": [],
   "source": [
    "df_raw = pd.read_csv('datasets/titanic_dataset.csv')\n",
    "df_adjusted = df_raw.copy()"
   ]
  },
  {
   "cell_type": "code",
   "execution_count": 3,
   "id": "86536e4f",
   "metadata": {},
   "outputs": [],
   "source": [
    "def summary(df):\n",
    "    \"\"\"\n",
    "    Prints a detailed summary of each column in a pandas DataFrame.\n",
    "    Shows type, missing values, and descriptive statistics for each column.\n",
    "    \"\"\"\n",
    "    print(f\"\\nDataFrame Summary: {df.shape[0]} rows, {df.shape[1]} columns\")\n",
    "    print(\"=\" * 60)\n",
    "\n",
    "    for col in df.columns:\n",
    "        print(f\"\\nColumn: {col}\")\n",
    "        print(f\"Type: {df[col].dtype}\")\n",
    "        print(f\"Missing values: {df[col].isna().sum()}\")\n",
    "\n",
    "        if pd.api.types.is_numeric_dtype(df[col]):\n",
    "            print(f\"Mean: {df[col].mean():.5f}\")\n",
    "            print(f\"Median: {df[col].median():.5f}\")\n",
    "            print(f\"Min: {df[col].min():.5f}\")\n",
    "            print(f\"Max: {df[col].max():.5f}\")\n",
    "            print(f\"Standard Deviation: {df[col].std():.5f}\")\n",
    "        elif pd.api.types.is_string_dtype(df[col]) or pd.api.types.is_categorical_dtype(df[col]):\n",
    "            print(\"Value counts:\")\n",
    "            print(df[col].value_counts())\n",
    "        elif pd.api.types.is_bool_dtype(df[col]):\n",
    "            print(\"Value counts:\")\n",
    "            print(df[col].value_counts())\n",
    "        elif pd.api.types.is_datetime64_any_dtype(df[col]):\n",
    "            print(f\"Min date: {df[col].min():.5f}\")\n",
    "            print(f\"Max date: {df[col].max():.5f}\")\n",
    "        else:\n",
    "            print(\"Unrecognized or complex data type.\")\n",
    "\n",
    "    print(\"\\n\" + \"=\" * 60 + \"\\nEnd of summary.\\n\")"
   ]
  },
  {
   "cell_type": "code",
   "execution_count": 4,
   "id": "4ee87e6a",
   "metadata": {},
   "outputs": [
    {
     "name": "stdout",
     "output_type": "stream",
     "text": [
      "\n",
      "DataFrame Summary: 891 rows, 12 columns\n",
      "============================================================\n",
      "\n",
      "Column: PassengerId\n",
      "Type: int64\n",
      "Missing values: 0\n",
      "Mean: 446.00000\n",
      "Median: 446.00000\n",
      "Min: 1.00000\n",
      "Max: 891.00000\n",
      "Standard Deviation: 257.35384\n",
      "\n",
      "Column: Survived\n",
      "Type: int64\n",
      "Missing values: 0\n",
      "Mean: 0.38384\n",
      "Median: 0.00000\n",
      "Min: 0.00000\n",
      "Max: 1.00000\n",
      "Standard Deviation: 0.48659\n",
      "\n",
      "Column: Pclass\n",
      "Type: int64\n",
      "Missing values: 0\n",
      "Mean: 2.30864\n",
      "Median: 3.00000\n",
      "Min: 1.00000\n",
      "Max: 3.00000\n",
      "Standard Deviation: 0.83607\n",
      "\n",
      "Column: Name\n",
      "Type: object\n",
      "Missing values: 0\n",
      "Value counts:\n",
      "Name\n",
      "Braund, Mr. Owen Harris                     1\n",
      "Boulos, Mr. Hanna                           1\n",
      "Frolicher-Stehli, Mr. Maxmillian            1\n",
      "Gilinski, Mr. Eliezer                       1\n",
      "Murdlin, Mr. Joseph                         1\n",
      "                                           ..\n",
      "Kelly, Miss. Anna Katherine \"Annie Kate\"    1\n",
      "McCoy, Mr. Bernard                          1\n",
      "Johnson, Mr. William Cahoone Jr             1\n",
      "Keane, Miss. Nora A                         1\n",
      "Dooley, Mr. Patrick                         1\n",
      "Name: count, Length: 891, dtype: int64\n",
      "\n",
      "Column: Sex\n",
      "Type: object\n",
      "Missing values: 0\n",
      "Value counts:\n",
      "Sex\n",
      "male      577\n",
      "female    314\n",
      "Name: count, dtype: int64\n",
      "\n",
      "Column: Age\n",
      "Type: float64\n",
      "Missing values: 177\n",
      "Mean: 29.69912\n",
      "Median: 28.00000\n",
      "Min: 0.42000\n",
      "Max: 80.00000\n",
      "Standard Deviation: 14.52650\n",
      "\n",
      "Column: SibSp\n",
      "Type: int64\n",
      "Missing values: 0\n",
      "Mean: 0.52301\n",
      "Median: 0.00000\n",
      "Min: 0.00000\n",
      "Max: 8.00000\n",
      "Standard Deviation: 1.10274\n",
      "\n",
      "Column: Parch\n",
      "Type: int64\n",
      "Missing values: 0\n",
      "Mean: 0.38159\n",
      "Median: 0.00000\n",
      "Min: 0.00000\n",
      "Max: 6.00000\n",
      "Standard Deviation: 0.80606\n",
      "\n",
      "Column: Ticket\n",
      "Type: object\n",
      "Missing values: 0\n",
      "Value counts:\n",
      "Ticket\n",
      "347082      7\n",
      "CA. 2343    7\n",
      "1601        7\n",
      "3101295     6\n",
      "CA 2144     6\n",
      "           ..\n",
      "9234        1\n",
      "19988       1\n",
      "2693        1\n",
      "PC 17612    1\n",
      "370376      1\n",
      "Name: count, Length: 681, dtype: int64\n",
      "\n",
      "Column: Fare\n",
      "Type: float64\n",
      "Missing values: 0\n",
      "Mean: 32.20421\n",
      "Median: 14.45420\n",
      "Min: 0.00000\n",
      "Max: 512.32920\n",
      "Standard Deviation: 49.69343\n",
      "\n",
      "Column: Cabin\n",
      "Type: object\n",
      "Missing values: 687\n",
      "Unrecognized or complex data type.\n",
      "\n",
      "Column: Embarked\n",
      "Type: object\n",
      "Missing values: 2\n",
      "Unrecognized or complex data type.\n",
      "\n",
      "============================================================\n",
      "End of summary.\n",
      "\n"
     ]
    },
    {
     "name": "stderr",
     "output_type": "stream",
     "text": [
      "/var/folders/8f/z7k3sy6x0l555p2rqjf6zvtr0000gn/T/ipykernel_16011/604072689.py:20: DeprecationWarning: is_categorical_dtype is deprecated and will be removed in a future version. Use isinstance(dtype, pd.CategoricalDtype) instead\n",
      "  elif pd.api.types.is_string_dtype(df[col]) or pd.api.types.is_categorical_dtype(df[col]):\n"
     ]
    }
   ],
   "source": [
    "summary(df_raw)"
   ]
  },
  {
   "cell_type": "markdown",
   "id": "1ae85a5d",
   "metadata": {},
   "source": [
    "The Titanic dataset consists of 891 passenger records and 12 columns, capturing a mix of numerical and categorical features. The target variable is Survived, a binary indicator of whether a passenger survived (1) or not (0), with a survival rate of approximately 38% in the dataset.\n",
    "\n",
    "Among the numerical variables, we find:\n",
    "\t•\tAge, which ranges from 0.42 to 80 years but contains 177 missing values.\n",
    "\t•\tFare, ranging from 0 to 512.33, shows high variance.\n",
    "\t•\tSibSp and Parch represent family relations aboard and have skewed distributions toward lower values.\n",
    "\n",
    "The categorical features include:\n",
    "\t•\tSex, with a distribution of 577 males and 314 females.\n",
    "\t•\tEmbarked, the port of embarkation, has 2 missing values.\n",
    "\t•\tCabin, which has significant missing data (687 values) and complex formatting, will require special treatment or exclusion.\n",
    "\t•\tTicket and Name are high-cardinality text fields and may not contribute directly without further feature engineering.\n",
    "\n",
    "Overall, this dataset requires preprocessing steps such as imputation of missing values, encoding categorical variables, and scaling numerical features before it is ready for training a logistic regression model."
   ]
  },
  {
   "cell_type": "markdown",
   "id": "188191c9",
   "metadata": {},
   "source": [
    "Before applying any machine learning models, it’s crucial to clean and organize the dataset. The next code performs several essential preprocessing steps to prepare the Titanic dataset for training:\n",
    "\n",
    "1. Standardizing column names:\n",
    "\n",
    "The column names are converted to lowercase, stripped of leading/trailing whitespace, and spaces are replaced with underscores. This makes them easier to handle programmatically and avoids potential errors in later steps.\n",
    "\n",
    "2. Selecting relevant features:\n",
    "\n",
    "The dataset is reduced to a subset of columns that will be used in the model. These include:\n",
    "- Numerical predictors: age, sibsp, parch, fare\n",
    "- Categorical predictors: pclass, sex, embarked\n",
    "- Target variable: survived\n",
    "\n",
    "3.\tSplitting the dataset:\n",
    "\n",
    "The cleaned dataset is divided into training (80%) and testing (20%) sets using train_test_split. This separation is crucial to evaluate the model’s performance on unseen data and to avoid overfitting.\n",
    "\n",
    "4.\tKeeping a copy of the original data:\n",
    "\n",
    "Backups of the original training and testing sets are stored so we can always refer back to the unprocessed version during further transformations or analysis.\n",
    "    \n",
    "These steps set a solid foundation for data imputation, encoding, and modeling, ensuring reproducibility and cleaner downstream code."
   ]
  },
  {
   "cell_type": "code",
   "execution_count": 5,
   "id": "37799852",
   "metadata": {},
   "outputs": [],
   "source": [
    "# Standarize columns names\n",
    "df_adjusted.columns = [col_name.strip().lower().replace(\" \",\"_\") for col_name in df_adjusted.columns]\n",
    "\n",
    "# Define predictors and targets\n",
    "predictors_num = ['age', 'sibsp', 'parch','fare']\n",
    "predictors_cat = ['pclass', 'sex', 'embarked']\n",
    "target = 'survived'\n",
    "df_adjusted = df_adjusted[predictors_num + predictors_cat + [target]]\n",
    "\n",
    "# Train/test split\n",
    "train_data, test_data= train_test_split(df_adjusted, test_size=0.2, random_state=42)\n",
    "train_data_original = train_data.copy()\n",
    "test_data_original = test_data.copy()"
   ]
  },
  {
   "cell_type": "markdown",
   "id": "6d0a0840",
   "metadata": {},
   "source": [
    "\n",
    "At this stage, our dataset has already been split into training and testing sets. However, we still need to perform three key transformations to prepare the data for modeling:\n",
    "- Imputation: Filling in missing values (specifically in Age and Embarked).\n",
    "- Encoding: Converting categorical variables into dummy/indicator variables.\n",
    "- Normalization: Scaling numerical features to a standard range.\n",
    "\n",
    "Having explored the internal mechanisms behind these preprocessing techniques in previous notebooks, we now move on to applying scikit-learn’s built-in tools to carry out essential data transformations.\n",
    "\n",
    "It is crucial that we apply these transformations consistently:\n",
    "- We fit the imputers and scalers only on the training data.\n",
    "- We then apply the same parameters (learned from training) to transform the test data.\n",
    "\n",
    "This ensures that no information from the test set leaks into the training process, preserving the integrity of our model evaluation. We’ll start by creating custom imputers specifically for the Age and Embarked columns."
   ]
  },
  {
   "cell_type": "markdown",
   "id": "8684726f",
   "metadata": {},
   "source": [
    "**Imputation**"
   ]
  },
  {
   "cell_type": "markdown",
   "id": "4dca02f9",
   "metadata": {},
   "source": [
    "To address missing values in our dataset, we apply two distinct imputation strategies tailored to the characteristics of the variables:\n",
    "\n",
    "1. KNN Imputer (for Embarked)\n",
    "\n",
    "The Embarked column contains categorical data with a few missing entries. Instead of using a simple strategy like most frequent value, we opt for a more nuanced method: the K-Nearest Neighbors (KNN) imputer.\n",
    "\n",
    "This technique fills in missing values based on the values of the k-nearest complete rows, using a distance metric (often Euclidean for numerical features). In our context, the KNN imputer uses the similarity between rows (based on other features like Pclass, Sex, etc.) to infer the most appropriate value for Embarked.\n",
    "\n",
    "This strategy allows for data-aware imputations that consider the relationship between features, often resulting in better estimates than simpler approaches.\n",
    "\n",
    "2. Group-Based Imputer (for Age)\n",
    "\n",
    "The Age column is a continuous numerical feature with more missing entries and considerable variability. Using a constant mean or KNN may not be ideal, especially if Age depends on other variables like Pclass or Sex.\n",
    "\n",
    "We therefore define a custom imputer using a GroupByImputer class. It works as follows:\n",
    "- It groups rows using one or more specified columns (e.g., Pclass, Sex).\n",
    "- For each group, it calculates an aggregate value (e.g., the mean age).\n",
    "- Missing values are filled based on the group to which the row belongs.\n",
    "\n",
    "This approach provides context-sensitive imputations, preserving relationships between features and improving model quality."
   ]
  },
  {
   "cell_type": "code",
   "execution_count": 6,
   "id": "87fbc141",
   "metadata": {},
   "outputs": [],
   "source": [
    "class GroupByImputer(BaseEstimator, TransformerMixin):\n",
    "    def __init__(self, group_cols, target_col, agg='mean'):\n",
    "        self.group_cols = group_cols\n",
    "        self.target_col = target_col\n",
    "        self.agg = agg\n",
    "\n",
    "    def fit(self, X, y=None):\n",
    "        self.fill_values_ = (\n",
    "            X.groupby(self.group_cols)[self.target_col]\n",
    "            .agg(self.agg)\n",
    "            .to_dict()\n",
    "        )\n",
    "        return self\n",
    "\n",
    "    def transform(self, X):\n",
    "        X = X.copy()\n",
    "        def get_fill_value(row):\n",
    "            key = tuple(row[col] for col in self.group_cols)\n",
    "            return self.fill_values_.get(key, X[self.target_col].mean())\n",
    "        \n",
    "        mask = X[self.target_col].isnull()\n",
    "        X.loc[mask, self.target_col] = X[mask].apply(get_fill_value, axis=1)\n",
    "        return X"
   ]
  },
  {
   "cell_type": "markdown",
   "id": "31532a54",
   "metadata": {},
   "source": [
    "*Train dataset*"
   ]
  },
  {
   "cell_type": "code",
   "execution_count": 7,
   "id": "c3f23b5f",
   "metadata": {},
   "outputs": [],
   "source": [
    "# Apply the imputer we code before for getting ages considering agreggations in \"sex\" and \"pclass\"\n",
    "age_imputer = GroupByImputer(group_cols=['sex','pclass'], target_col='age', agg = 'mean')\n",
    "age_imputer.fit(train_data)\n",
    "train_data = age_imputer.transform(train_data)\n",
    "\n",
    "# Apply a knn imputer for \"embarked\" this is already available in sklearn modules\n",
    "# Input embarked\n",
    "col_to_inpute = 'embarked'\n",
    "le = LabelEncoder()\n",
    "not_nan_mask = train_data[col_to_inpute].notna()\n",
    "le.fit(train_data.loc[not_nan_mask, col_to_inpute])\n",
    "train_data.loc[not_nan_mask, col_to_inpute] = le.transform(train_data.loc[not_nan_mask, col_to_inpute])\n",
    "\n",
    "# Convert to float\n",
    "train_data[col_to_inpute] = train_data[col_to_inpute].astype(float)\n",
    "\n",
    "# Apply KNN imputer\n",
    "knn_imputer = KNNImputer(n_neighbors=2)\n",
    "columns = predictors_num + [col_to_inpute]\n",
    "knn_imputer.fit(train_data[columns])\n",
    "imputed = knn_imputer.transform(train_data[columns])\n",
    "\n",
    "# Replace the encoded column\n",
    "train_data[col_to_inpute] = imputed[:, columns.index(col_to_inpute)]\n",
    "\n",
    "# Decode back to original string labels\n",
    "train_data[col_to_inpute] = train_data[col_to_inpute].round().astype(int)\n",
    "train_data[col_to_inpute] = le.inverse_transform(train_data[col_to_inpute])\n"
   ]
  },
  {
   "cell_type": "markdown",
   "id": "f58592f7",
   "metadata": {},
   "source": [
    "*Test dataset* - We use the imputers fitted with the training dataset"
   ]
  },
  {
   "cell_type": "code",
   "execution_count": 8,
   "id": "61df406b",
   "metadata": {},
   "outputs": [],
   "source": [
    "# Apply the imputer we code before - We still using the one fitted in train dataset\n",
    "test_data = age_imputer.transform(test_data)\n",
    "\n",
    "# Apply a knn imputer for \"embarked\" this is already available in sklearn modules\n",
    "# Input embarked\n",
    "col_to_inpute = 'embarked'\n",
    "not_nan_mask = test_data[col_to_inpute].notna()\n",
    "test_data.loc[not_nan_mask, col_to_inpute] = le.transform(test_data.loc[not_nan_mask, col_to_inpute])\n",
    "\n",
    "# Convert to float\n",
    "test_data[col_to_inpute] = test_data[col_to_inpute].astype(float)\n",
    "\n",
    "# Apply KNN imputer\n",
    "columns = predictors_num + [col_to_inpute]\n",
    "imputed = knn_imputer.transform(test_data[columns])\n",
    "\n",
    "# Replace the encoded column\n",
    "test_data[col_to_inpute] = imputed[:, columns.index(col_to_inpute)]\n",
    "\n",
    "# Decode back to original string labels\n",
    "test_data[col_to_inpute] = test_data[col_to_inpute].round().astype(int)\n",
    "test_data[col_to_inpute] = le.inverse_transform(test_data[col_to_inpute])"
   ]
  },
  {
   "cell_type": "markdown",
   "id": "b2c4c9c5",
   "metadata": {},
   "source": [
    "**Encoding variables for categorical predictors (dummies variables)**"
   ]
  },
  {
   "cell_type": "markdown",
   "id": "3cd90f9e",
   "metadata": {},
   "source": [
    "One-hot encoding transforms each categorical variable into multiple binary (0/1) columns—one for each unique category. For example, the Sex variable with two possible values (male, female) would be transformed into two columns:\n",
    "- Sex_male: 1 if the passenger is male, 0 otherwise.\n",
    "- Sex_female: 1 if the passenger is female, 0 otherwise.\n",
    "\n",
    "This representation ensures that:\n",
    "- The model does not assume any ordinal relationship between categories.\n",
    "- Each category is treated independently by the algorithm.\n",
    "\n",
    "To avoid multicollinearity (where one variable is perfectly correlated with others), it’s common practice to drop one dummy column per categorical variable. This doesn’t cause any loss of information because the dropped category can always be inferred from the remaining ones.\n",
    "\n",
    "In our implementation, we won't drop a variable but **it's important for you to know that this could help**."
   ]
  },
  {
   "cell_type": "markdown",
   "id": "3557eb72",
   "metadata": {},
   "source": [
    "*Train dataset*"
   ]
  },
  {
   "cell_type": "code",
   "execution_count": 9,
   "id": "433735cf",
   "metadata": {},
   "outputs": [
    {
     "name": "stderr",
     "output_type": "stream",
     "text": [
      "/var/folders/8f/z7k3sy6x0l555p2rqjf6zvtr0000gn/T/ipykernel_16011/2462639932.py:2: FutureWarning: Downcasting behavior in `replace` is deprecated and will be removed in a future version. To retain the old behavior, explicitly call `result.infer_objects(copy=False)`. To opt-in to the future behavior, set `pd.set_option('future.no_silent_downcasting', True)`\n",
      "  train_data = train_data.replace({True: 1, False: 0})\n"
     ]
    }
   ],
   "source": [
    "train_data = pd.get_dummies(train_data, columns=predictors_cat)\n",
    "train_data = train_data.replace({True: 1, False: 0})\n",
    "\n",
    "# Reordenar las columnas: target al final\n",
    "train_data = train_data[[c for c in train_data.columns if c != target] + [target]]"
   ]
  },
  {
   "cell_type": "markdown",
   "id": "485c7be8",
   "metadata": {},
   "source": [
    "*Test dataset*"
   ]
  },
  {
   "cell_type": "code",
   "execution_count": 10,
   "id": "26b34fe0",
   "metadata": {},
   "outputs": [
    {
     "name": "stderr",
     "output_type": "stream",
     "text": [
      "/var/folders/8f/z7k3sy6x0l555p2rqjf6zvtr0000gn/T/ipykernel_16011/2626425710.py:3: FutureWarning: Downcasting behavior in `replace` is deprecated and will be removed in a future version. To retain the old behavior, explicitly call `result.infer_objects(copy=False)`. To opt-in to the future behavior, set `pd.set_option('future.no_silent_downcasting', True)`\n",
      "  test_data = test_data.replace({True: 1, False: 0})\n"
     ]
    }
   ],
   "source": [
    "# Get dummies\n",
    "test_data = pd.get_dummies(test_data, columns=predictors_cat)\n",
    "test_data = test_data.replace({True: 1, False: 0})\n",
    "\n",
    "# Reordenar las columnas: target al final\n",
    "test_data = test_data[[c for c in test_data.columns if c != target] + [target]]"
   ]
  },
  {
   "cell_type": "markdown",
   "id": "cadd620a",
   "metadata": {},
   "source": [
    "**Normalization for numerical variables**"
   ]
  },
  {
   "cell_type": "markdown",
   "id": "799f80a7",
   "metadata": {},
   "source": [
    "Normalization is a crucial preprocessing step when working with numerical features in machine learning models like logistic regression. Its purpose is to standardize the scale of features so that each has a mean of 0 and a standard deviation of 1 (when using StandardScaler). This helps gradient-based algorithms converge more efficiently and prevents features with larger numerical ranges from dominating the optimization process.\n",
    "\n",
    "In our case, we apply normalization only to continuous numerical variables such as:\n",
    "- age\n",
    "- sibsp\n",
    "- parch\n",
    "- fare\n",
    "\n",
    "These features can vary significantly in scale, so normalization ensures that the model treats them more equally during training.\n",
    "\n",
    "Important: Dummy variables (created from categorical features like sex, pclass, and embarked) should not be normalized. These binary indicators (0 or 1) represent category membership. Scaling them would distort their meaning and interfere with the model’s interpretation of category presence. Therefore, we exclude them from the normalization process.\n",
    "\n",
    "By carefully separating numerical and categorical features during preprocessing, we ensure that each transformation is applied only where it makes sense, maintaining data integrity and improving model performance."
   ]
  },
  {
   "cell_type": "markdown",
   "id": "7e7ad98e",
   "metadata": {},
   "source": [
    "*Train dataset*"
   ]
  },
  {
   "cell_type": "code",
   "execution_count": 11,
   "id": "821a8749",
   "metadata": {},
   "outputs": [],
   "source": [
    "# Columns to standardize\n",
    "cols_to_scale = predictors_num\n",
    "\n",
    "# Build transformer\n",
    "standar_scaler = ColumnTransformer(\n",
    "    transformers=[\n",
    "        ('scaler', StandardScaler(), cols_to_scale)\n",
    "    ],\n",
    "    remainder='passthrough'  # keep other columns (e.g. 'gender') untouched\n",
    ")\n",
    "\n",
    "# Transform the data\n",
    "standar_scaler.fit(train_data)\n",
    "data_scaled = standar_scaler.transform(train_data)\n",
    "\n",
    "# Get correct column order and names\n",
    "new_columns = cols_to_scale + [col for col in train_data.columns if col not in cols_to_scale]\n",
    "train_data = pd.DataFrame(data_scaled, columns=new_columns)"
   ]
  },
  {
   "cell_type": "markdown",
   "id": "b4dc5deb",
   "metadata": {},
   "source": [
    "*Test dataset* - Apply the standard scaler fitted with the training dataset"
   ]
  },
  {
   "cell_type": "code",
   "execution_count": 12,
   "id": "a9e9f2f9",
   "metadata": {},
   "outputs": [],
   "source": [
    "# Normalization - We still using the one fitted in train\n",
    "data_scaled = standar_scaler.transform(test_data)\n",
    "\n",
    "# Get correct column order and names\n",
    "new_columns = cols_to_scale + [col for col in test_data.columns if col not in cols_to_scale]\n",
    "test_data = pd.DataFrame(data_scaled, columns=new_columns)"
   ]
  },
  {
   "cell_type": "markdown",
   "id": "3e620c96",
   "metadata": {},
   "source": [
    "**Our final data**\n",
    "\n",
    "Finally we get our final X_train, y_train, X_test and y_test data"
   ]
  },
  {
   "cell_type": "code",
   "execution_count": 13,
   "id": "685d6f90",
   "metadata": {},
   "outputs": [],
   "source": [
    "final_predictors = [col for col in train_data.columns if col!='survived']\n",
    "final_target = 'survived'\n",
    "\n",
    "# Training data\n",
    "X_train = train_data[final_predictors]\n",
    "y_train = train_data[final_target]\n",
    "\n",
    "# Testing data\n",
    "X_test = test_data[final_predictors]\n",
    "y_test = test_data[final_target]"
   ]
  },
  {
   "cell_type": "markdown",
   "id": "672f4718",
   "metadata": {},
   "source": [
    "**Implementing Logistic Regression from Scratch**\n"
   ]
  },
  {
   "cell_type": "markdown",
   "id": "387f98fc",
   "metadata": {},
   "source": [
    "To deepen our understanding of how logistic regression works, we will now implement the model from scratch—without relying on external libraries like scikit-learn. This hands-on approach allows us to explore the internal mechanics of the algorithm, including how the model learns from data through gradient ascent and how the sigmoid function maps linear combinations into probabilities.\n",
    "\n",
    "The LogisticRegressionScratch class below encapsulates the full implementation of a binary logistic regression classifier. Its key features include:\n",
    "- Parameter Initialization: Random initialization of model coefficients (self.betas).\n",
    "- Training (fit method): Uses gradient ascent to maximize the log-likelihood of the data.\n",
    "- Prediction: Computes class probabilities using the logistic (sigmoid) function and returns binary predictions based on a threshold.\n",
    "- Gradient Calculation and Update: At each iteration, the model computes the partial derivatives of the log-likelihood function with respect to each coefficient—this is the gradient. Then, it updates the coefficients by taking a step in the direction of the gradient (gradient ascent), since we are maximizing the log-likelihood function. This process continues iteratively, gradually adjusting the coefficients to improve the model’s fit.\n",
    "- Probabilistic Objective Function: Tracks the model’s performance using the product of predicted probabilities (a form of the log-likelihood).\n",
    "\n",
    "This implementation reinforces essential machine learning concepts such as:\n",
    "- The role of gradients in optimization,\n",
    "- The probabilistic interpretation of logistic regression,\n",
    "\n",
    "In practice, for real-world applications we typically rely on highly optimized libraries like scikit-learn, but building this from the ground up offers critical intuition for what those libraries are doing internally."
   ]
  },
  {
   "cell_type": "code",
   "execution_count": 14,
   "id": "e759e905",
   "metadata": {},
   "outputs": [],
   "source": [
    "class LogisticRegressionScratch:\n",
    "    \"\"\" \n",
    "    A model to represent a logistic regression\n",
    "    \"\"\"\n",
    "\n",
    "    def __init__(self):\n",
    "        \"\"\" \n",
    "        Initialize the attributes needed\n",
    "        \"\"\"\n",
    "        self.betas = []\n",
    "        self.learning_rate = None\n",
    "        self.epochs = None\n",
    "        \n",
    "    def fit(self,\n",
    "            X: List[Vector], \n",
    "            y: Vector, \n",
    "            learning_rate: float = 0.001, \n",
    "            epochs: int = 1000) -> None:\n",
    "        \"\"\" \n",
    "        A method to train the model\n",
    "        \"\"\"\n",
    "        self.learning_rate = learning_rate\n",
    "        self.epochs = epochs\n",
    "        self.betas = [random.random() for _ in range(len(X[0]) + 1)]\n",
    "        pbar = tqdm.tqdm(range(self.epochs), \"Training model\")\n",
    "        for epoch in pbar:\n",
    "            gradient = np.mean([self._gradient([1] + xi, yi) for xi, yi in zip(X,y)], axis=0)\n",
    "            new_betas = self._gradient_step(gradient)\n",
    "            self.betas = new_betas\n",
    "            prob = self._prob(X, y)\n",
    "            pbar.set_postfix({\"prob\": f\"{prob:.4f}\"})\n",
    "    \n",
    "    def _prob(self, X: List[Vector], y: Vector) -> float:\n",
    "        \"\"\" \n",
    "        Computes the function result we are maximizing\n",
    "        \"\"\"\n",
    "        probabilities = []\n",
    "        for x_i,y_i in zip(X, y):\n",
    "            probability = (self._logistic([1] + x_i)**y_i)*((1 - self._logistic([1] + x_i))**(1-y_i))\n",
    "            probabilities.append(probability)\n",
    "        \n",
    "        return np.mean(probabilities).item()\n",
    "    \n",
    "    def _gradient_step(self, gradient: Vector)-> Vector:\n",
    "        \"\"\" \n",
    "        Make a step in the direction to maximize the function\n",
    "        \"\"\"\n",
    "        return [self.betas[i] + (self.learning_rate*gradient[i]) for i in range(len(self.betas))]\n",
    "    \n",
    "    def predict(self, x: Vector, threshold: float = 0.5) -> float:\n",
    "        \"\"\" \n",
    "        Method to predict\n",
    "        \"\"\"\n",
    "        z = np.dot(self.betas, [1] + x)\n",
    "        return 1 if 1/(1 + math.exp(-z)) >= threshold else 0\n",
    "    \n",
    "    def _logistic(self, x: Vector) -> float:\n",
    "        \"\"\" \n",
    "        Return f(x) -> logistic function\n",
    "        \"\"\"\n",
    "        z = np.dot(self.betas, x)\n",
    "        return 1/(1 + math.exp(-z))\n",
    "    \n",
    "    def _logistic_derivative(self, x:Vector) -> float:\n",
    "        \"\"\" \n",
    "        Returns the derivative of the logistic function\n",
    "        \"\"\"\n",
    "        return self._logistic(x) * (1 - self._logistic(x))\n",
    "    \n",
    "    def _gradient(self, x:Vector, y:float) -> Vector:\n",
    "        \"\"\" \n",
    "        Return the gradient of a point\n",
    "        The objective function is the probability\n",
    "        \"\"\"\n",
    "        gradient = [\n",
    "             (y - self._logistic(x))*x[i] for i in range(len(self.betas))\n",
    "        ]\n",
    "        return gradient\n",
    "    "
   ]
  },
  {
   "cell_type": "markdown",
   "id": "1acdc1ac",
   "metadata": {},
   "source": [
    "To evaluate the performance of a classification model, especially in multi-class or imbalanced datasets, it is essential to go beyond basic accuracy. The following implementation provides a detailed computation of the confusion matrix and associated metrics such as precision, recall, and F1-score. It supports both binary and multi-class classification problems, with optional aggregation strategies for the latter.\n",
    "\n",
    "Let's code our metrics functions."
   ]
  },
  {
   "cell_type": "code",
   "execution_count": 15,
   "id": "a5b9a854",
   "metadata": {},
   "outputs": [],
   "source": [
    "# Our metrics report\n",
    "def cmatrix(y_true: Vector, y_pred: Vector) -> Dict[str, float]:\n",
    "    \"\"\" Get the confusion matrix of each label\n",
    "        Cols - Predicted\n",
    "        Rows - Actual\n",
    "    \"\"\"\n",
    "    real_labels = y_true\n",
    "    predicted_labels = y_pred\n",
    "    labels = sorted(list(set(real_labels + predicted_labels)), reverse=True)\n",
    "    cm = confusion_matrix(real_labels, predicted_labels, labels=labels)\n",
    "    \n",
    "    cm_detailed = defaultdict(dict)\n",
    "    for label_index in range(len(labels)):\n",
    "        tp = 0\n",
    "        tn = 0\n",
    "        fp = 0\n",
    "        fn = 0\n",
    "        for row in range(len(labels)):\n",
    "            for col in range(len(labels)):\n",
    "                if row==label_index and col==label_index:\n",
    "                    tp += int(cm[row][col])\n",
    "                elif row==label_index and col!=label_index:\n",
    "                    fn += int(cm[row][col])\n",
    "                elif row!=label_index and col==label_index:\n",
    "                    fp += int(cm[row][col])\n",
    "                elif row!=label_index and col!=label_index:\n",
    "                    tn += int(cm[row][col])\n",
    "\n",
    "        cm_detailed[labels[label_index]]['tp'] = tp\n",
    "        cm_detailed[labels[label_index]]['tn'] = tn\n",
    "        cm_detailed[labels[label_index]]['fp'] = fp\n",
    "        cm_detailed[labels[label_index]]['fn'] = fn\n",
    "\n",
    "    return labels, cm, cm_detailed\n",
    "\n",
    "def metrics(y_true: Vector, y_pred: Vector, kind: Literal['micro','macro'] = 'micro') -> Dict[str, float]:\n",
    "    labels, cm, cm_detailed = cmatrix(y_true, y_pred)\n",
    "    # If just two labels we get the simpler confusion matrix and got metrics\n",
    "    if len(labels) == 2:\n",
    "        tp = cm_detailed[labels[0]]['tp']\n",
    "        fp = cm_detailed[labels[0]]['fp']\n",
    "        fn = cm_detailed[labels[0]]['fn']\n",
    "        tn = cm_detailed[labels[0]]['tn']\n",
    "        _accuracy = float(np.trace(cm)/np.sum(cm))\n",
    "        _precision = precision(tp, fp)\n",
    "        _recall = recall(tp, fn)\n",
    "        _f1_score = f1_score(tp, tn, fp, fn)\n",
    "\n",
    "        return {\n",
    "            \"labels\": labels,\n",
    "            \"confusion_matrix\": cm,\n",
    "            \"confusion_matrix_detailes\": cm_detailed,\n",
    "            \"accuracy\": _accuracy, \n",
    "            \"precision\": _precision, \n",
    "            \"recall\": _recall,\n",
    "            \"f1_score\": _f1_score\n",
    "        }\n",
    "    \n",
    "    # If multilabeled predictions we got micro or macro metrics\n",
    "    if len(labels) > 2:\n",
    "        _accuracy = float(np.trace(cm)/np.sum(cm))\n",
    "        if kind == 'micro':\n",
    "            tp = sum([cm_detailed[label]['tp'] for label in labels])\n",
    "            fp = sum([cm_detailed[label]['fp'] for label in labels])\n",
    "            fn = sum([cm_detailed[label]['fn'] for label in labels])\n",
    "            tn = sum([cm_detailed[label]['tn'] for label in labels])\n",
    "            _precision = precision(tp, fp)\n",
    "            _recall = recall(tp, fn)\n",
    "            _f1_score = f1_score(tp, tn, fp, fn)\n",
    "\n",
    "        elif kind == 'macro':\n",
    "            _precision = mean(\n",
    "                [\n",
    "                    precision(\n",
    "                        cm_detailed[label]['tp'],\n",
    "                        cm_detailed[label]['fp']\n",
    "                    )\n",
    "                    for label in labels\n",
    "                ]\n",
    "            \n",
    "            )\n",
    "\n",
    "            _recall = mean(\n",
    "                [\n",
    "                    recall(\n",
    "                        cm_detailed[label]['tp'],\n",
    "                        cm_detailed[label]['fn']\n",
    "                    )\n",
    "                    for label in labels\n",
    "                ]\n",
    "            \n",
    "            )\n",
    "\n",
    "            _f1_score = mean(\n",
    "                [\n",
    "                    f1_score(\n",
    "                        cm_detailed[label]['tp'],\n",
    "                        cm_detailed[label]['tn'],\n",
    "                        cm_detailed[label]['fp'],\n",
    "                        cm_detailed[label]['fn']\n",
    "                    )\n",
    "                    for label in labels\n",
    "                ]\n",
    "            \n",
    "            )\n",
    "\n",
    "        else:\n",
    "            raise AssertionError('Not a valid kind of metrics, use kind = \"micro\" or kind = \"macro\"')\n",
    "        \n",
    "        return {\n",
    "            \"labels\": labels,\n",
    "            \"confusion_matrix\": cm,\n",
    "            \"confusion_matrix_detailes\": cm_detailed,\n",
    "            \"accuracy\": _accuracy, \n",
    "            \"precision\": _precision, \n",
    "            \"recall\": _recall,\n",
    "            \"f1_score\": _f1_score\n",
    "        }\n",
    "\n",
    "def metrics(y_true: Vector, y_pred: Vector, kind: Literal['micro','macro'] = 'micro') -> Dict[str, float]:\n",
    "    labels, cm, cm_detailed = cmatrix(y_true, y_pred)\n",
    "    # If multilabeled predictions we got micro or macro metrics\n",
    "    if len(labels) > 0:\n",
    "        _accuracy = float(np.trace(cm)/np.sum(cm))\n",
    "        if kind == 'micro':\n",
    "            tp = sum([cm_detailed[label]['tp'] for label in labels])\n",
    "            fp = sum([cm_detailed[label]['fp'] for label in labels])\n",
    "            fn = sum([cm_detailed[label]['fn'] for label in labels])\n",
    "            tn = sum([cm_detailed[label]['tn'] for label in labels])\n",
    "            _precision = precision(tp, fp)\n",
    "            _recall = recall(tp, fn)\n",
    "            _f1_score = f1_score(tp, tn, fp, fn)\n",
    "\n",
    "        elif kind == 'macro':\n",
    "            _precision = mean(\n",
    "                [\n",
    "                    precision(\n",
    "                        cm_detailed[label]['tp'],\n",
    "                        cm_detailed[label]['fp']\n",
    "                    )\n",
    "                    for label in labels\n",
    "                ]\n",
    "            \n",
    "            )\n",
    "\n",
    "            _recall = mean(\n",
    "                [\n",
    "                    recall(\n",
    "                        cm_detailed[label]['tp'],\n",
    "                        cm_detailed[label]['fn']\n",
    "                    )\n",
    "                    for label in labels\n",
    "                ]\n",
    "            \n",
    "            )\n",
    "\n",
    "            _f1_score = mean(\n",
    "                [\n",
    "                    f1_score(\n",
    "                        cm_detailed[label]['tp'],\n",
    "                        cm_detailed[label]['tn'],\n",
    "                        cm_detailed[label]['fp'],\n",
    "                        cm_detailed[label]['fn']\n",
    "                    )\n",
    "                    for label in labels\n",
    "                ]\n",
    "            \n",
    "            )\n",
    "\n",
    "        else:\n",
    "            raise AssertionError('Not a valid kind of metrics, use kind = \"micro\" or kind = \"macro\"')\n",
    "        \n",
    "        return {\n",
    "            \"labels\": labels,\n",
    "            \"confusion_matrix\": cm,\n",
    "            \"confusion_matrix_detailes\": cm_detailed,\n",
    "            \"accuracy\": _accuracy, \n",
    "            \"precision\": _precision, \n",
    "            \"recall\": _recall,\n",
    "            \"f1_score\": _f1_score\n",
    "        }\n"
   ]
  },
  {
   "cell_type": "markdown",
   "id": "e3423e2f",
   "metadata": {},
   "source": [
    "**Training the model**"
   ]
  },
  {
   "cell_type": "code",
   "execution_count": 16,
   "id": "6c636a23",
   "metadata": {},
   "outputs": [
    {
     "name": "stderr",
     "output_type": "stream",
     "text": [
      "Training model: 100%|██████████| 10000/10000 [03:51<00:00, 43.13it/s, prob=0.7149]\n"
     ]
    }
   ],
   "source": [
    "model = LogisticRegressionScratch()\n",
    "model.fit(np.array(X_train).tolist(), np.array(y_train).tolist(), epochs=10000, learning_rate=0.01)"
   ]
  },
  {
   "cell_type": "markdown",
   "id": "7c14c426",
   "metadata": {},
   "source": [
    "**Metrics**"
   ]
  },
  {
   "cell_type": "markdown",
   "id": "0276787c",
   "metadata": {},
   "source": [
    "*Report in training data*"
   ]
  },
  {
   "cell_type": "code",
   "execution_count": 17,
   "id": "973a4291",
   "metadata": {},
   "outputs": [],
   "source": [
    "y_pred = [model.predict(x) for x in np.array(X_train).tolist()]\n",
    "train_macro_metrics = metrics(np.array(y_train).tolist(), y_pred, kind='macro')"
   ]
  },
  {
   "cell_type": "code",
   "execution_count": 18,
   "id": "ae654120",
   "metadata": {},
   "outputs": [
    {
     "name": "stdout",
     "output_type": "stream",
     "text": [
      "Train Macro Metrics\n",
      "\n",
      "=== Classification Report ===\n",
      "Labels: [1.0, 0.0]\n",
      "\n",
      "Confusion Matrix:\n",
      "  182  86\n",
      "  49  395\n",
      "\n",
      "Detailed Confusion Metrics per Class:\n",
      "  1.0          -> TP: 182, TN: 395, FP: 49, FN: 86\n",
      "  0.0          -> TP: 395, TN: 182, FP: 86, FN: 49\n",
      "\n",
      "Overall Metrics:\n",
      "  Accuracy : 0.8104\n",
      "  Precision: 0.8045\n",
      "  Recall   : 0.7844\n",
      "  F1 Score : 0.7918\n"
     ]
    }
   ],
   "source": [
    "print(\"Train Macro Metrics\")\n",
    "print_classification_report(train_macro_metrics)"
   ]
  },
  {
   "cell_type": "markdown",
   "id": "cbab9d5b",
   "metadata": {},
   "source": [
    "*Report in testing data*"
   ]
  },
  {
   "cell_type": "code",
   "execution_count": 20,
   "id": "a062839e",
   "metadata": {},
   "outputs": [],
   "source": [
    "\n",
    "y_pred = [model.predict(x) for x in np.array(X_test).tolist()]\n",
    "test_macro_metrics = metrics(np.array(y_test).tolist(), y_pred, kind='macro')"
   ]
  },
  {
   "cell_type": "code",
   "execution_count": 21,
   "id": "4927bfbf",
   "metadata": {},
   "outputs": [
    {
     "name": "stdout",
     "output_type": "stream",
     "text": [
      "Test Macro Metrics\n",
      "\n",
      "=== Classification Report ===\n",
      "Labels: [1.0, 0.0]\n",
      "\n",
      "Confusion Matrix:\n",
      "  53  21\n",
      "  14  91\n",
      "\n",
      "Detailed Confusion Metrics per Class:\n",
      "  1.0          -> TP: 53, TN: 91, FP: 14, FN: 21\n",
      "  0.0          -> TP: 91, TN: 53, FP: 21, FN: 14\n",
      "\n",
      "Overall Metrics:\n",
      "  Accuracy : 0.8045\n",
      "  Precision: 0.8018\n",
      "  Recall   : 0.7914\n",
      "  F1 Score : 0.7952\n"
     ]
    }
   ],
   "source": [
    "print(\"Test Macro Metrics\")\n",
    "print_classification_report(test_macro_metrics)"
   ]
  },
  {
   "cell_type": "markdown",
   "id": "b39e1d49",
   "metadata": {},
   "source": [
    "The logistic regression model implemented from scratch demonstrated solid classification performance on the test dataset. With an accuracy of 80.45%, the model correctly predicted the target class in the majority of cases. The macro-averaged metrics indicate a balanced performance across both classes:\n",
    "- Precision: 80.18% – When the model predicts a positive case, it’s correct about 80% of the time.\n",
    "- Recall: 79.14% – The model correctly identifies around 79 out of every 100 actual positive cases.\n",
    "- F1 Score: 79.52% – This reflects a solid balance between precision and recall, indicating overall reliability.\n",
    "\n",
    "The confusion matrix shows a reasonable distribution of true positives and true negatives for both classes. However, there’s still room for improvement in reducing false negatives and false positives, particularly for class 1.0, which had 21 false negatives, indicating some difficulty in detecting positive cases.\n",
    "\n",
    "Now we will plot the results to make it clear."
   ]
  },
  {
   "cell_type": "code",
   "execution_count": 23,
   "id": "a1e5e442",
   "metadata": {},
   "outputs": [
    {
     "data": {
      "image/png": "[encoded data removed]",
      "text/plain": [
       "<Figure size 1000x500 with 1 Axes>"
      ]
     },
     "metadata": {},
     "output_type": "display_data"
    }
   ],
   "source": [
    "# Convert to numpy arrays if needed\n",
    "y_true = np.array(y_test)\n",
    "y_pred = np.array(y_pred)\n",
    "\n",
    "# Create an array for the index (or sample number)\n",
    "indices = np.arange(len(y_true))\n",
    "\n",
    "# Define colors: green for correct, red for incorrect\n",
    "colors = ['green' if yt == yp else 'red' for yt, yp in zip(y_true, y_pred)]\n",
    "\n",
    "plt.figure(figsize=(10, 5))\n",
    "plt.scatter(indices, y_true, c=colors, marker='o', edgecolor='black', label='True Label')\n",
    "\n",
    "plt.xlabel('Sample Index')\n",
    "plt.ylabel('True Label')\n",
    "plt.title('True Labels: Green = Correct | Red = Incorrect')\n",
    "plt.yticks([0, 1])\n",
    "plt.grid(True, linestyle='--', alpha=0.3)\n",
    "\n",
    "plt.tight_layout()\n",
    "plt.show()"
   ]
  },
  {
   "cell_type": "markdown",
   "id": "a9cf3ba9",
   "metadata": {},
   "source": [
    "### **Conclusion**"
   ]
  },
  {
   "cell_type": "markdown",
   "id": "84edcf8b",
   "metadata": {},
   "source": [
    "In this notebook, we implemented logistic regression from scratch, gaining a deeper understanding of its mathematical foundation, particularly the use of the logistic function and gradient ascent to maximize the likelihood. Through manual implementation, we explored how model coefficients are iteratively updated to improve prediction accuracy.\n",
    "\n",
    "We also covered essential data preprocessing steps, including splitting data into training and testing sets, imputing missing values with tailored imputers, encoding categorical variables, and standardizing numerical features—highlighting the importance of applying transformations consistently between train and test datasets.\n",
    "\n",
    "Finally, we evaluated our model using detailed performance metrics(macro-averaged), which provided comprehensive insight into the classifier’s behavior on different classes. Visualization of prediction accuracy further reinforced understanding of model performance.\n",
    "\n",
    "This hands-on approach not only reinforces theoretical concepts but also equips us with practical skills to build, evaluate, and refine logistic regression models in real-world scenarios."
   ]
  }
 ],
 "metadata": {
  "kernelspec": {
   "display_name": "venv_datascience",
   "language": "python",
   "name": "python3"
  },
  "language_info": {
   "codemirror_mode": {
    "name": "ipython",
    "version": 3
   },
   "file_extension": ".py",
   "mimetype": "text/x-python",
   "name": "python",
   "nbconvert_exporter": "python",
   "pygments_lexer": "ipython3",
   "version": "3.13.5"
  }
 },
 "nbformat": 4,
 "nbformat_minor": 5
}
